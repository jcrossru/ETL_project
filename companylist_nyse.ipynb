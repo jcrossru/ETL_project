{
 "cells": [
  {
   "cell_type": "code",
   "execution_count": 1,
   "metadata": {},
   "outputs": [],
   "source": [
    "import os\n",
    "import pandas as pd\n",
    "from sqlalchemy import create_engine\n",
    "from config import db_pass\n",
    "import pymysql"
   ]
  },
  {
   "cell_type": "markdown",
   "metadata": {},
   "source": [
    "### Extract CSVs into DataFrames"
   ]
  },
  {
   "cell_type": "code",
   "execution_count": 2,
   "metadata": {},
   "outputs": [
    {
     "data": {
      "text/html": [
       "<div>\n",
       "<style scoped>\n",
       "    .dataframe tbody tr th:only-of-type {\n",
       "        vertical-align: middle;\n",
       "    }\n",
       "\n",
       "    .dataframe tbody tr th {\n",
       "        vertical-align: top;\n",
       "    }\n",
       "\n",
       "    .dataframe thead th {\n",
       "        text-align: right;\n",
       "    }\n",
       "</style>\n",
       "<table border=\"1\" class=\"dataframe\">\n",
       "  <thead>\n",
       "    <tr style=\"text-align: right;\">\n",
       "      <th></th>\n",
       "      <th>Symbol</th>\n",
       "      <th>Name</th>\n",
       "      <th>LastSale</th>\n",
       "      <th>MarketCap</th>\n",
       "      <th>IPOyear</th>\n",
       "      <th>Sector</th>\n",
       "      <th>industry</th>\n",
       "      <th>SummaryQuote</th>\n",
       "    </tr>\n",
       "  </thead>\n",
       "  <tbody>\n",
       "    <tr>\n",
       "      <th>0</th>\n",
       "      <td>DDD</td>\n",
       "      <td>3D Systems Corporation</td>\n",
       "      <td>10.75</td>\n",
       "      <td>1000.0</td>\n",
       "      <td>NaN</td>\n",
       "      <td>Technology</td>\n",
       "      <td>Computer Software: Prepackaged Software</td>\n",
       "      <td>https://www.nasdaq.com/symbol/ddd</td>\n",
       "    </tr>\n",
       "    <tr>\n",
       "      <th>1</th>\n",
       "      <td>MMM</td>\n",
       "      <td>3M Company</td>\n",
       "      <td>190.21</td>\n",
       "      <td>200.0</td>\n",
       "      <td>NaN</td>\n",
       "      <td>Health Care</td>\n",
       "      <td>Medical/Dental Instruments</td>\n",
       "      <td>https://www.nasdaq.com/symbol/mmm</td>\n",
       "    </tr>\n",
       "    <tr>\n",
       "      <th>2</th>\n",
       "      <td>WBAI</td>\n",
       "      <td>500.com Limited</td>\n",
       "      <td>11.97</td>\n",
       "      <td>300.0</td>\n",
       "      <td>2013.0</td>\n",
       "      <td>Consumer Services</td>\n",
       "      <td>Services-Misc. Amusement &amp; Recreation</td>\n",
       "      <td>https://www.nasdaq.com/symbol/wbai</td>\n",
       "    </tr>\n",
       "    <tr>\n",
       "      <th>3</th>\n",
       "      <td>WUBA</td>\n",
       "      <td>58.com Inc.</td>\n",
       "      <td>71.69</td>\n",
       "      <td>400.0</td>\n",
       "      <td>2013.0</td>\n",
       "      <td>Technology</td>\n",
       "      <td>Computer Software: Programming, Data Processing</td>\n",
       "      <td>https://www.nasdaq.com/symbol/wuba</td>\n",
       "    </tr>\n",
       "    <tr>\n",
       "      <th>4</th>\n",
       "      <td>EGHT</td>\n",
       "      <td>8x8 Inc</td>\n",
       "      <td>23.70</td>\n",
       "      <td>500.0</td>\n",
       "      <td>NaN</td>\n",
       "      <td>Technology</td>\n",
       "      <td>EDP Services</td>\n",
       "      <td>https://www.nasdaq.com/symbol/eght</td>\n",
       "    </tr>\n",
       "  </tbody>\n",
       "</table>\n",
       "</div>"
      ],
      "text/plain": [
       "  Symbol                    Name  LastSale  MarketCap  IPOyear  \\\n",
       "0    DDD  3D Systems Corporation     10.75     1000.0      NaN   \n",
       "1    MMM              3M Company    190.21      200.0      NaN   \n",
       "2   WBAI         500.com Limited     11.97      300.0   2013.0   \n",
       "3   WUBA             58.com Inc.     71.69      400.0   2013.0   \n",
       "4   EGHT                 8x8 Inc     23.70      500.0      NaN   \n",
       "\n",
       "              Sector                                         industry  \\\n",
       "0         Technology          Computer Software: Prepackaged Software   \n",
       "1        Health Care                       Medical/Dental Instruments   \n",
       "2  Consumer Services            Services-Misc. Amusement & Recreation   \n",
       "3         Technology  Computer Software: Programming, Data Processing   \n",
       "4         Technology                                     EDP Services   \n",
       "\n",
       "                         SummaryQuote  \n",
       "0   https://www.nasdaq.com/symbol/ddd  \n",
       "1   https://www.nasdaq.com/symbol/mmm  \n",
       "2  https://www.nasdaq.com/symbol/wbai  \n",
       "3  https://www.nasdaq.com/symbol/wuba  \n",
       "4  https://www.nasdaq.com/symbol/eght  "
      ]
     },
     "execution_count": 2,
     "metadata": {},
     "output_type": "execute_result"
    }
   ],
   "source": [
    "nyse_file = \"Resources/companylist_nyse.csv\"\n",
    "nyse_df = pd.read_csv(nyse_file)\n",
    "nyse_df.head()"
   ]
  },
  {
   "cell_type": "markdown",
   "metadata": {},
   "source": [
    "### Transform premise DataFrame"
   ]
  },
  {
   "cell_type": "markdown",
   "metadata": {},
   "source": [
    "### Create database connection"
   ]
  },
  {
   "cell_type": "code",
   "execution_count": 3,
   "metadata": {},
   "outputs": [],
   "source": [
    "connection_string = f\"root:{db_pass}@localhost/stocks_db\"\n",
    "engine = create_engine(f'mysql+pymysql://{connection_string}')"
   ]
  },
  {
   "cell_type": "code",
   "execution_count": 4,
   "metadata": {},
   "outputs": [
    {
     "data": {
      "text/plain": [
       "['all_stocks_5yr',\n",
       " 'companylist_nasdq',\n",
       " 'companylist_nyse',\n",
       " 'industry_analysis']"
      ]
     },
     "execution_count": 4,
     "metadata": {},
     "output_type": "execute_result"
    }
   ],
   "source": [
    "# Confirm tables\n",
    "engine.table_names()"
   ]
  },
  {
   "cell_type": "markdown",
   "metadata": {},
   "source": [
    "### Load DataFrames into database"
   ]
  },
  {
   "cell_type": "code",
   "execution_count": null,
   "metadata": {},
   "outputs": [],
   "source": [
    "nyse_df.to_sql(name='companylist_nyse', con=engine, if_exists='append', index=False)\n"
   ]
  },
  {
   "cell_type": "code",
   "execution_count": null,
   "metadata": {},
   "outputs": [],
   "source": []
  },
  {
   "cell_type": "markdown",
   "metadata": {},
   "source": [
    "# Remove unnamed column from dataframe since it is not valid\n",
    "nyse_cols = [\"Symbol\", \"Name\", \"LastSale\", \"MarketCap\", \"IPOyear\", \"Sector\", \"industry\", \"Summary Quote\"]\n",
    "nyse_transformed= nyse_df[nyse_cols].copy()\n",
    "\n",
    "# Rename the column headers\n",
    "#nyse_transformed = nyse_transformed.rename(columns={\"Summary Quote\": \"Summar_quote\"})\n",
    "\n",
    "# Create a filtered dataframe from specific columns\n",
    "#premise_cols = [\"License Serial Number\", \"Premises Name\", \"County ID Code\"]\n",
    "#premise_transformed= premise_df[premise_cols].copy()\n",
    "\n",
    "# Rename the column headers\n",
    "nyse_transformed = nyse_transformed.rename(columns={\"Summary Quote\": \"SummaryQuote\"})\n",
    "\n",
    "# Clean the data by dropping duplicates and setting the index\n",
    "#premise_transformed.drop_duplicates(\"id\", inplace=True)\n",
    "#premise_transformed.set_index(\"id\", inplace=True)\n",
    "\n",
    "#nyse_transformed.loc[, 'MarketCap'] = 10\n",
    "\n",
    "nyse_transformed.head()"
   ]
  },
  {
   "cell_type": "markdown",
   "metadata": {},
   "source": [
    "# connection_string = \"root:db_pass@localhost/stocks_db\"\n",
    "# engine = create_engine(f'mysql://{connection_string}')\n",
    "\n",
    "host = os.getenv('MYSQL_HOST')\n",
    "port = os.getenv('MYSQL_PORT')\n",
    "user = os.getenv('MYSQL_USER')\n",
    "password = os.getenv('MYSQL_PASSWORD')\n",
    "database = os.getenv('MYSQL_DATABASE')\n",
    "\n",
    "conn = pymysql.connect(\n",
    "    host=host,\n",
    "    port=int(3306),\n",
    "    user=\"root\",\n",
    "    passwd=db_pass,\n",
    "    db=\"stocks_db\",\n",
    "    charset='utf8mb4')\n",
    "\n",
    "#nyse_transformed.to_sql(name='companylist_nyse', con=conn,  if_exists='replace', index = False)\n",
    "\n",
    "try:\n",
    "    with conn.cursor() as cursor:\n",
    "        # Create a new record\n",
    "        sql= \"INSERT INTO `companylist_nyse` (`Symbol`, `Name`, `LastSale`,  `IPOyear`, `Sector`, `industry`, `Summary_Quote`) VALUES (%s, %s, %s, %s, %s, %s, %s)\"\n",
    "        cursor.execute(sql, ('DDD', '3D Systems Corporation', 10.75,  'n/a', 'Technology', 'Computer Software: Prepackaged Software', 'https://www.nasdaq.com/symbol/ddd'))\n",
    "        conn.commit()\n",
    "   \n",
    "finally:\n",
    "     conn.close()\n"
   ]
  }
 ],
 "metadata": {
  "kernelspec": {
   "display_name": "Python 3",
   "language": "python",
   "name": "python3"
  },
  "language_info": {
   "codemirror_mode": {
    "name": "ipython",
    "version": 3
   },
   "file_extension": ".py",
   "mimetype": "text/x-python",
   "name": "python",
   "nbconvert_exporter": "python",
   "pygments_lexer": "ipython3",
   "version": "3.7.1"
  }
 },
 "nbformat": 4,
 "nbformat_minor": 2
}
